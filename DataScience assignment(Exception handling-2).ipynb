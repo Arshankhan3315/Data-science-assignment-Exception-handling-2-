{
 "cells": [
  {
   "cell_type": "markdown",
   "id": "2f427263-dc2e-44d6-8271-8722aaf74ca2",
   "metadata": {},
   "source": [
    "Python -- Assignment(Exception handling-2)"
   ]
  },
  {
   "cell_type": "markdown",
   "id": "fb490c02-e091-47e3-bdf1-06c163951b96",
   "metadata": {},
   "source": [
    "Question-1- Explain why we have to use the Exception class while creating a Custom Exception.\n",
    "Note: Here Exception class refers to the base class for all the exceptions."
   ]
  },
  {
   "cell_type": "markdown",
   "id": "b105b0d4-efc7-4413-b4fc-424183d0d91a",
   "metadata": {},
   "source": [
    "Answer-1-When creating custom exceptions in a programming language like Pythonit is recommended to inherit from the Exception class (or a more specific subclass of Exception) for several important reasons."
   ]
  },
  {
   "cell_type": "markdown",
   "id": "3417a52e-2414-4db9-83d4-23a6aa0d1992",
   "metadata": {},
   "source": [
    "(1)-Consistency and Convention: In most programming languages, including Python, exception handling is a fundamental concept. By inheriting from the Exception class, you adhere to a convention that other developers will understand."
   ]
  },
  {
   "cell_type": "markdown",
   "id": "d0c3b606-27ba-4c32-9729-082e76eb7361",
   "metadata": {},
   "source": [
    "(2)-Clarity and Readability: When you create a custom exception class, it's an opportunity to give it a meaningful name that describes the specific error or exceptional condition that it represents. This enhances the readability of your code. For example, if you're developing a file handling library, creating a custom exception called FileNotFoundError makes your code much more self-explanatory than raising a generic Exception."
   ]
  },
  {
   "cell_type": "code",
   "execution_count": 3,
   "id": "4a524366-6632-4a72-88c1-ac2fdc55ed30",
   "metadata": {},
   "outputs": [
    {
     "name": "stdout",
     "output_type": "stream",
     "text": [
      "Custom database error occurred: Error executing SQL query\n"
     ]
    }
   ],
   "source": [
    "import logging\n",
    "\n",
    "logging.basicConfig(filename='application.log', level=logging.ERROR)\n",
    "\n",
    "class CustomDatabaseError(Exception):\n",
    "    def __init__(self, message, sql_query=None):\n",
    "        super().__init__(message)\n",
    "        self.sql_query = sql_query\n",
    "        logging.error(f\"CustomDatabaseError: {message}\")\n",
    "        if sql_query:\n",
    "            logging.error(f\"SQL Query: {sql_query}\")\n",
    "\n",
    "def execute_database_query(sql_query):\n",
    "    try:\n",
    "        raise CustomDatabaseError(\"Error executing SQL query\", sql_query)\n",
    "    except CustomDatabaseError as e:\n",
    "        print(f\"Custom database error occurred: {e}\")\n",
    "\n",
    "sql_query = \"SELECT * FROM non_existent_table\"\n",
    "try:\n",
    "    execute_database_query(sql_query)\n",
    "except CustomDatabaseError as e:\n",
    "    print(\"Handling custom database error...\")"
   ]
  },
  {
   "cell_type": "markdown",
   "id": "472fb3f9-8eb1-4541-8183-8003da773a7f",
   "metadata": {},
   "source": [
    "Question-2- Write a python program to print Python Exception Hierarchy."
   ]
  },
  {
   "cell_type": "markdown",
   "id": "a17b74dc-0461-41bd-892f-3cbcd346973d",
   "metadata": {},
   "source": [
    "Answer-2- You can print the Python Exception Hierarchy along with a conversation using a Python program that traverses the hierarchy of built-in exceptions and logs the information"
   ]
  },
  {
   "cell_type": "code",
   "execution_count": 6,
   "id": "c40d7c8e-09ec-4f26-9018-b4df80f1f8b1",
   "metadata": {},
   "outputs": [
    {
     "name": "stdout",
     "output_type": "stream",
     "text": [
      "Python Exception Hierarchy information has been logged to 'exception_hierarchy.log'.\n"
     ]
    }
   ],
   "source": [
    "import logging\n",
    "\n",
    "logging.basicConfig(filename='exception_hierarchy.log', level=logging.INFO)\n",
    "\n",
    "def print_exception_hierarchy(base_exception_class=BaseException, depth=0):\n",
    "    indentation = '  ' * depth  \n",
    "    logging.info(f\"{indentation}{base_exception_class.__name__}\")\n",
    "    \n",
    "    for subclass in base_exception_class.__subclasses__():\n",
    "        print_exception_hierarchy(subclass, depth + 1)\n",
    "\n",
    "if __name__ == \"__main__\":\n",
    "    logging.info(\"Python Exception Hierarchy:\")\n",
    "    print_exception_hierarchy()\n",
    "\n",
    "print(\"Python Exception Hierarchy information has been logged to 'exception_hierarchy.log'.\")"
   ]
  },
  {
   "cell_type": "markdown",
   "id": "b5863541-78e4-4638-8d34-16e3e1b21c37",
   "metadata": {},
   "source": [
    "Question-3- What errors are defined in the ArithmeticError class? Explain any two with an example."
   ]
  },
  {
   "cell_type": "markdown",
   "id": "b8c1b0f3-ac65-49bd-8b7d-e4196bf1bd7a",
   "metadata": {},
   "source": [
    "Answer-3-The ArithmeticError class is a base class for exceptions that arise during arithmetic operations in Python. It is a part of the Python exception hierarchy and serves as a parent class for more specific arithmetic-related exception classes. Two commonly used exceptions that are subclasses of ArithmeticError are ZeroDivisionError and OverflowError. Let's explain each of them with examples and include logging for better error handling"
   ]
  },
  {
   "cell_type": "code",
   "execution_count": 7,
   "id": "9070d61f-0590-4a21-9d6e-cd24456ef307",
   "metadata": {},
   "outputs": [],
   "source": [
    "#(1)-ZeroDivisionError"
   ]
  },
  {
   "cell_type": "code",
   "execution_count": 8,
   "id": "6b24c8e3-43dc-437b-912f-15ca70964c9f",
   "metadata": {},
   "outputs": [
    {
     "name": "stdout",
     "output_type": "stream",
     "text": [
      "Error occurred. Check the log for details.\n"
     ]
    }
   ],
   "source": [
    "import logging\n",
    "\n",
    "logging.basicConfig(filename='division_errors.log', level=logging.ERROR)\n",
    "\n",
    "def divide(a, b):\n",
    "    try:\n",
    "        result = a / b\n",
    "        return result\n",
    "    except ZeroDivisionError as e:\n",
    "        logging.error(f\"Division by zero: {e}\")\n",
    "        return None\n",
    "\n",
    "dividend = 10\n",
    "divisor = 0\n",
    "\n",
    "result = divide(dividend, divisor)\n",
    "\n",
    "if result is None:\n",
    "    print(\"Error occurred. Check the log for details.\")\n",
    "else:\n",
    "    print(f\"Result: {result}\")"
   ]
  },
  {
   "cell_type": "code",
   "execution_count": 9,
   "id": "bc7931fa-ed3a-4671-b37a-e7abbf442876",
   "metadata": {},
   "outputs": [],
   "source": [
    "#(2)-OverflowError"
   ]
  },
  {
   "cell_type": "code",
   "execution_count": 10,
   "id": "1ec79749-f5aa-4a8b-b594-85b98d4215af",
   "metadata": {},
   "outputs": [
    {
     "name": "stdout",
     "output_type": "stream",
     "text": [
      "Result: 10000000000000000000000000000000000000000000000000000000000000000000000000000000000000000000000000000000000000000000000000000000000000000000000000000000000000000000000000000000000000000000000000000000000000000000000000000000000000000000000000000000000000000000000000000000000000000000000000000000000000000000000000000000000000000000000000000000000000000000000000000000000000000000000000000000000000000000000000000000000000000000000000000000000000000000000000000000000000000000000000000000000000000000000000000000000000000000000000000000000000000000000000000000000000000000000000000000000000000000000000000000000000000000000000000000000000000000000000000000000000000000000000000000000000000000000000000000000000000000000000000000000000000000000000000000000000000000000000000000000000000000000000000000000000000000000000000000000000000000000000000000000000000000000000000000000000000000000000000000000000000000000000000000000000000000000000000000000000000000000000000000000000000000000000000000000000000\n"
     ]
    }
   ],
   "source": [
    "import logging\n",
    "\n",
    "logging.basicConfig(filename='overflow_errors.log', level=logging.ERROR)\n",
    "\n",
    "def calculate_power(base, exponent):\n",
    "    try:\n",
    "        result = base ** exponent\n",
    "        return result\n",
    "    except OverflowError as e:\n",
    "        logging.error(f\"Arithmetic overflow: {e}\")\n",
    "        return None\n",
    "\n",
    "base_value = 10\n",
    "exponent_value = 1000\n",
    "\n",
    "result = calculate_power(base_value, exponent_value)\n",
    "\n",
    "if result is None:\n",
    "    print(\"Error occurred. Check the log for details.\")\n",
    "else:\n",
    "    print(f\"Result: {result}\")"
   ]
  },
  {
   "cell_type": "markdown",
   "id": "7c9a4fca-c1d8-4976-8ba1-fff5a6ab06fb",
   "metadata": {},
   "source": [
    "Question-4- Why LookupError class is used? Explain with an example KeyError and IndexError."
   ]
  },
  {
   "cell_type": "markdown",
   "id": "d852adef-e28e-47d6-9a5f-f5f736cb1337",
   "metadata": {},
   "source": [
    "Answer-4-The LookupError class in Python is used as a base class for exceptions related to lookup operations, such as indexing sequences or dictionaries. It serves as a parent class for more specific lookup-related exceptions. Two common exceptions that are subclasses of LookupError are KeyError and IndexError"
   ]
  },
  {
   "cell_type": "code",
   "execution_count": 11,
   "id": "4ce05a3d-7eb5-4eb6-9526-cbe9bff4be60",
   "metadata": {},
   "outputs": [],
   "source": [
    "#(1)-KeyError"
   ]
  },
  {
   "cell_type": "code",
   "execution_count": 12,
   "id": "c39671e8-cdfd-4acf-af15-167899ba245d",
   "metadata": {},
   "outputs": [
    {
     "name": "stdout",
     "output_type": "stream",
     "text": [
      "Key 'gender' not found in dictionary. Check the log for details.\n"
     ]
    }
   ],
   "source": [
    "import logging\n",
    "\n",
    "logging.basicConfig(filename='key_errors.log', level=logging.ERROR)\n",
    "\n",
    "def access_dict(dictionary, key):\n",
    "    try:\n",
    "        value = dictionary[key]\n",
    "        return value\n",
    "    except KeyError as e:\n",
    "        logging.error(f\"Key not found: {e}\")\n",
    "        return None\n",
    "\n",
    "my_dict = {'name': 'Alice', 'age': 30, 'city': 'New York'}\n",
    "\n",
    "key_to_lookup = 'gender'\n",
    "\n",
    "result = access_dict(my_dict, key_to_lookup)\n",
    "\n",
    "if result is None:\n",
    "    print(f\"Key '{key_to_lookup}' not found in dictionary. Check the log for details.\")\n",
    "else:\n",
    "    print(f\"Value: {result}\")"
   ]
  },
  {
   "cell_type": "code",
   "execution_count": 14,
   "id": "26ebacd5-1508-4d11-8696-072c01f52f0b",
   "metadata": {},
   "outputs": [],
   "source": [
    "#(2)-index Error"
   ]
  },
  {
   "cell_type": "code",
   "execution_count": 15,
   "id": "11cfaede-6c0b-45cd-99a1-37d667f0e559",
   "metadata": {},
   "outputs": [
    {
     "name": "stdout",
     "output_type": "stream",
     "text": [
      "Index 10 is out of range. Check the log for details.\n"
     ]
    }
   ],
   "source": [
    "import logging\n",
    "\n",
    "logging.basicConfig(filename='index_errors.log', level=logging.ERROR)\n",
    "\n",
    "def access_list(my_list, index):\n",
    "    try:\n",
    "        value = my_list[index]\n",
    "        return value\n",
    "    except IndexError as e:\n",
    "        logging.error(f\"Index out of range: {e}\")\n",
    "        return None\n",
    "\n",
    "my_list = [10, 20, 30, 40, 50]\n",
    "\n",
    "index_to_lookup = 10\n",
    "\n",
    "result = access_list(my_list, index_to_lookup)\n",
    "\n",
    "if result is None:\n",
    "    print(f\"Index {index_to_lookup} is out of range. Check the log for details.\")\n",
    "else:\n",
    "    print(f\"Value: {result}\")"
   ]
  },
  {
   "cell_type": "markdown",
   "id": "0d174f46-872e-436d-84e1-02dd3a7b78ed",
   "metadata": {},
   "source": [
    "Question-5- Explain ImportError. What is ModuleNotFoundError?"
   ]
  },
  {
   "cell_type": "markdown",
   "id": "ccd129c8-eae8-430e-99b0-4ffcfdb1e7c1",
   "metadata": {},
   "source": [
    "Answer-5-ImportError and ModuleNotFoundError are both exceptions in Python that occur when there are issues with importing modules, but they represent slightly different scenarios:"
   ]
  },
  {
   "cell_type": "code",
   "execution_count": 16,
   "id": "19b48632-77d2-4a2d-9810-667f1d2fcfa7",
   "metadata": {},
   "outputs": [],
   "source": [
    "#import error"
   ]
  },
  {
   "cell_type": "code",
   "execution_count": 17,
   "id": "370e19f9-dd7e-470b-a2a4-cf1f136b0790",
   "metadata": {},
   "outputs": [
    {
     "name": "stdout",
     "output_type": "stream",
     "text": [
      "Import error occurred. Check the log for details.\n"
     ]
    }
   ],
   "source": [
    "import logging\n",
    "\n",
    "logging.basicConfig(filename='import_errors.log', level=logging.ERROR)\n",
    "\n",
    "try:\n",
    "    import non_existent_module\n",
    "except ImportError as e:\n",
    "    logging.error(f\"Import error: {e}\")\n",
    "    print(\"Import error occurred. Check the log for details.\")"
   ]
  },
  {
   "cell_type": "code",
   "execution_count": 18,
   "id": "4cfd6374-b8a4-4139-b61e-0cbdd08dd97e",
   "metadata": {},
   "outputs": [],
   "source": [
    "#ModualNotFoundError"
   ]
  },
  {
   "cell_type": "code",
   "execution_count": 19,
   "id": "04f204b1-f4eb-4cbd-80c2-fa5b22139463",
   "metadata": {},
   "outputs": [
    {
     "name": "stdout",
     "output_type": "stream",
     "text": [
      "Module not found error occurred. Check the log for details.\n"
     ]
    }
   ],
   "source": [
    "import logging\n",
    "\n",
    "logging.basicConfig(filename='module_not_found_errors.log', level=logging.ERROR)\n",
    "\n",
    "try:\n",
    "    import non_existent_module\n",
    "except ModuleNotFoundError as e:\n",
    "    logging.error(f\"Module not found error: {e}\")\n",
    "    print(\"Module not found error occurred. Check the log for details.\")"
   ]
  },
  {
   "cell_type": "markdown",
   "id": "7200fd65-541b-4ce9-90fc-093617739534",
   "metadata": {},
   "source": [
    "Question-6- List down some best practices for exception handling in python."
   ]
  },
  {
   "cell_type": "markdown",
   "id": "b48041eb-d870-4824-be87-8eb566116237",
   "metadata": {},
   "source": [
    "Answer-6-\n",
    "Exception handling is a crucial part of writing reliable and maintainable Python code. Here are some best practices for exception handling in Python:\n",
    "\n",
    "(1)-Use Descriptive and Informative Exception Names:\n",
    "\n",
    "Use built-in exceptions or create custom exceptions with meaningful names that describe the specific error or exceptional condition.\n",
    "\n",
    "(2)-Handle Specific Exceptions:\n",
    "\n",
    "Avoid using broad except blocks that catch generic exceptions like Exception. Catch only the specific exceptions you can handle.\n",
    "(3)-Use Multiple except Blocks:\n",
    "\n",
    "Use multiple except blocks to handle different exception types separately. This allows for more targeted error handling.\n",
    "\n",
    "(4)-Use try...except...else Blocks:\n",
    "\n",
    "Use try...except...else blocks when you want to execute code only if no exceptions are raised. This can help reduce the nesting of your code.\n",
    "\n",
    "(5)-Avoid Bare except:\n",
    "\n",
    "Avoid using bare except: without specifying the exception type, as it can hide bugs and make debugging difficult.\n",
    "\n",
    "(6)-Reraise Exceptions When Appropriate:\n",
    "\n",
    "If you catch an exception but cannot handle it effectively, consider reraising it using raise without any additional arguments. This preserves the original traceback for better debugging.\n",
    "\n",
    "(7)-Use finally Blocks for Cleanup:\n",
    "\n",
    "Utilize finally blocks to ensure that cleanup code (e.g., resource release) is executed, even if an exception occurs.\n",
    "\n",
    "(8)-Log Exceptions:\n",
    "\n",
    "Use a logging framework (e.g., Python's logging module) to log exceptions. Include the exception type, a detailed error message, and any relevant context information.\n",
    "(9)-Log at the Right Level of Detail:\n",
    "\n",
    "Log errors and exceptions with appropriate severity levels (e.g., ERROR for critical errors, WARNING for non-critical issues).\n",
    "Use different log levels (DEBUG, INFO, WARNING, ERROR, CRITICAL) to provide varying levels of detail in logs."
   ]
  }
 ],
 "metadata": {
  "kernelspec": {
   "display_name": "Python 3 (ipykernel)",
   "language": "python",
   "name": "python3"
  },
  "language_info": {
   "codemirror_mode": {
    "name": "ipython",
    "version": 3
   },
   "file_extension": ".py",
   "mimetype": "text/x-python",
   "name": "python",
   "nbconvert_exporter": "python",
   "pygments_lexer": "ipython3",
   "version": "3.10.8"
  }
 },
 "nbformat": 4,
 "nbformat_minor": 5
}
